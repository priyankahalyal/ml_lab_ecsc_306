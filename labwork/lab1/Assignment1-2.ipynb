{
 "cells": [
  {
   "cell_type": "code",
   "execution_count": 2,
   "metadata": {},
   "outputs": [
    {
     "name": "stdout",
     "output_type": "stream",
     "text": [
      "16\n"
     ]
    }
   ],
   "source": [
    "import tensorflow as tf\n",
    "with tf.name_scope(\"MyOperationGroup\"):\n",
    "    with tf.name_scope(\"Scope_A\"):\n",
    "        a = tf.constant(5)\n",
    "        sqa = tf.multiply(a, a, name=\"Square_A\")\n",
    "    with tf.name_scope(\"Scope_B\"):\n",
    "        b = tf.constant(3)\n",
    "        sqb = tf.multiply(b,b,name=\"Square_B\")\n",
    "    with tf.name_scope(\"Scope_c\"):\n",
    "        c = tf.constant(2)\n",
    "        sqc = tf.multiply(c,c)\n",
    "\n",
    "with tf.name_scope(\"Scope_D\"):\n",
    "    e = tf.multiply(a, b)\n",
    "    two_e = tf.multiply(e,2) \n",
    "    f = tf.multiply(b,c)\n",
    "    two_f = tf.multiply(f,2)    \n",
    "    g = tf.multiply(a,c)\n",
    "    two_g = tf.multiply(g,2)\n",
    "    \n",
    "h = tf.add(sqa,sqb)\n",
    "i = tf.add(h,sqc)\n",
    "j = tf.subtract(i,two_e)\n",
    "k = tf.subtract(j,two_f)\n",
    "l = tf.add(k,two_g)\n",
    "\n",
    "with tf.Session() as sess:\n",
    "    writer = tf.summary.FileWriter(\"/tmp/tboard/output4\", sess.graph)\n",
    "    print(sess.run(l))\n",
    "    writer.close()"
   ]
  },
  {
   "cell_type": "code",
   "execution_count": null,
   "metadata": {
    "collapsed": true
   },
   "outputs": [],
   "source": []
  }
 ],
 "metadata": {
  "kernelspec": {
   "display_name": "Python 3",
   "language": "python",
   "name": "python3"
  },
  "language_info": {
   "codemirror_mode": {
    "name": "ipython",
    "version": 3
   },
   "file_extension": ".py",
   "mimetype": "text/x-python",
   "name": "python",
   "nbconvert_exporter": "python",
   "pygments_lexer": "ipython3",
   "version": "3.6.1"
  }
 },
 "nbformat": 4,
 "nbformat_minor": 2
}
