{
 "cells": [
  {
   "cell_type": "code",
   "execution_count": null,
   "metadata": {
    "collapsed": true
   },
   "outputs": [],
   "source": [
    "import tensorflow as tf\n",
    "with tf.name_scope(\"MyOperationGroup\"):\n",
    "    with tf.name_scope(\"Scope_A\"):\n",
    "        a = tf.constant(5)\n",
    "        sqa = tf.multiply(a, a, name=\"Square_of_A\")\n",
    "    with tf.name_scope(\"Scope_B\"):\n",
    "        b = tf.constant(3)\n",
    "        sqb = tf.multiply(b,b,name=\"Square_of_B\")\n",
    "    with tf.name_scope(\"Two_A_B\"):\n",
    "        c = tf.multiply(a,2)\n",
    "        d = tf.multiply(c,b)\n",
    "\n",
    "with tf.name_scope(\"Final\"):\n",
    "    e = tf.add(sqa,sqb)\n",
    "    f = tf.add(e,d)\n",
    "\n",
    "with tf.Session() as sess:\n",
    "    writer = tf.summary.FileWriter(\"/tmp/tboard/output3\", sess.graph)\n",
    "    print(sess.run(f))\n",
    "    writer.close()"
   ]
  }
 ],
 "metadata": {
  "kernelspec": {
   "display_name": "Python 3",
   "language": "python",
   "name": "python3"
  },
  "language_info": {
   "codemirror_mode": {
    "name": "ipython",
    "version": 3
   },
   "file_extension": ".py",
   "mimetype": "text/x-python",
   "name": "python",
   "nbconvert_exporter": "python",
   "pygments_lexer": "ipython3",
   "version": "3.6.1"
  }
 },
 "nbformat": 4,
 "nbformat_minor": 2
}
